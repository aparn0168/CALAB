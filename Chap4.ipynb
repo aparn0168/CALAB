{
  "nbformat": 4,
  "nbformat_minor": 0,
  "metadata": {
    "colab": {
      "name": "Chap4",
      "provenance": [],
      "collapsed_sections": [],
      "authorship_tag": "ABX9TyOAkM3XEnhryAPEJ671eSF8",
      "include_colab_link": true
    },
    "kernelspec": {
      "name": "python3",
      "display_name": "Python 3"
    },
    "language_info": {
      "name": "python"
    }
  },
  "cells": [
    {
      "cell_type": "markdown",
      "metadata": {
        "id": "view-in-github",
        "colab_type": "text"
      },
      "source": [
        "<a href=\"https://colab.research.google.com/github/aparn0168/CALAB/blob/main/Chap4.ipynb\" target=\"_parent\"><img src=\"https://colab.research.google.com/assets/colab-badge.svg\" alt=\"Open In Colab\"/></a>"
      ]
    },
    {
      "cell_type": "markdown",
      "source": [
        "#Chap.4 numpy套件(numeric python)\n",
        "##為什麼需要numpy?\n",
        "#####numpy由c撰寫，速度快python 10~1000倍以上\n",
        "#####numpy儲存結果較正確，python數字儲存不正確\n",
        "#####numpy節省記憶體儲存空間\n",
        "#####numpy的向量(矩陣計算)速度快\n",
        "#####numpy的取值方便"
      ],
      "metadata": {
        "id": "UPvGRTPLbqW5"
      }
    },
    {
      "cell_type": "code",
      "execution_count": null,
      "metadata": {
        "colab": {
          "base_uri": "https://localhost:8080/"
        },
        "id": "h9-nM5hIblqz",
        "outputId": "a8090453-ec70-4d07-f2b7-aec3200211a1"
      },
      "outputs": [
        {
          "output_type": "stream",
          "name": "stdout",
          "text": [
            "[1, 2, 3, 4, 5, 1, 2, 3, 4, 5, 1, 2, 3, 4, 5]\n"
          ]
        }
      ],
      "source": [
        "a_list=[1,2,3,4,5] #做一個List\n",
        "print(a_list*3)#list內容印三次"
      ]
    },
    {
      "cell_type": "code",
      "source": [
        "\n",
        "#numpy套件的ndarray型態,提供element-wise的操作\n",
        "import numpy as np #用numpy 名稱用np簡寫\n",
        "a=np.array([1,2,3,4,5])#存資料進a(numpy)\n",
        "print(a*3)#內容*3印出"
      ],
      "metadata": {
        "colab": {
          "base_uri": "https://localhost:8080/"
        },
        "id": "m0tJD1P0b2TZ",
        "outputId": "f2c3fd22-826b-4598-e860-507c38896076"
      },
      "execution_count": null,
      "outputs": [
        {
          "output_type": "stream",
          "name": "stdout",
          "text": [
            "[ 3  6  9 12 15]\n"
          ]
        }
      ]
    },
    {
      "cell_type": "code",
      "source": [
        "a=np.array([1,2,3,4,5])#存資料進a(numpy)\n",
        "print(type(a))\n",
        "print(a.shape) #ndaary的形狀\n",
        "print(a.dtype) #資料的型態\n",
        "print(a.ndim) #維度"
      ],
      "metadata": {
        "colab": {
          "base_uri": "https://localhost:8080/"
        },
        "id": "VGenEbLJb4U4",
        "outputId": "07d0c02c-b12f-44e5-c263-126175c1579e"
      },
      "execution_count": null,
      "outputs": [
        {
          "output_type": "stream",
          "name": "stdout",
          "text": [
            "<class 'numpy.ndarray'>\n",
            "(5,)\n",
            "int64\n",
            "1\n"
          ]
        }
      ]
    },
    {
      "cell_type": "code",
      "source": [
        "import numpy as np#用numpy 名稱用np簡寫\n",
        "z=np.zeros(6)#存6個0進z(numpy)\n",
        "print(z)#印Z的內容\n",
        "print(np.empty((2,3,4)))#存空值印出來(3*4)*2個\n",
        "print(np.arange(10))#存範圍(0-9)印出來"
      ],
      "metadata": {
        "colab": {
          "base_uri": "https://localhost:8080/"
        },
        "id": "_iJH9xmjb6_6",
        "outputId": "b823d7b1-fb8c-45ab-bada-c2461c6fc0d9"
      },
      "execution_count": null,
      "outputs": [
        {
          "output_type": "stream",
          "name": "stdout",
          "text": [
            "[0. 0. 0. 0. 0. 0.]\n",
            "[[[0. 0. 0. 0.]\n",
            "  [0. 0. 0. 0.]\n",
            "  [0. 0. 0. 0.]]\n",
            "\n",
            " [[0. 0. 0. 0.]\n",
            "  [0. 0. 0. 0.]\n",
            "  [0. 0. 0. 0.]]]\n",
            "[0 1 2 3 4 5 6 7 8 9]\n"
          ]
        }
      ]
    },
    {
      "cell_type": "code",
      "source": [
        "a=np.zeros(10)\n",
        "print(a)\n",
        "print(a.ndim) #1維List 1*10\n",
        "b=a.reshape(2,5) #改變A的微度為2*5\n",
        "print(b)"
      ],
      "metadata": {
        "colab": {
          "base_uri": "https://localhost:8080/"
        },
        "id": "jewXspXmWdr1",
        "outputId": "711d0ee9-eef7-481a-c532-5cac2ab46898"
      },
      "execution_count": null,
      "outputs": [
        {
          "output_type": "stream",
          "name": "stdout",
          "text": [
            "[0. 0. 0. 0. 0. 0. 0. 0. 0. 0.]\n",
            "1\n",
            "[[0. 0. 0. 0. 0.]\n",
            " [0. 0. 0. 0. 0.]]\n"
          ]
        }
      ]
    },
    {
      "cell_type": "markdown",
      "source": [
        "#ndarray的進階操作"
      ],
      "metadata": {
        "id": "veoOamGgcOL4"
      }
    },
    {
      "cell_type": "code",
      "source": [
        "my_array=np.arange(10)#存範圍(0-9)\n",
        "print(my_array)#印my_array\n",
        "print(my_array[0])#印my_array第0項\n",
        "print(my_array[0:5])#印my_array到第5項"
      ],
      "metadata": {
        "colab": {
          "base_uri": "https://localhost:8080/"
        },
        "id": "cTN29qZ0cMSh",
        "outputId": "96986a1c-9f29-4fda-a058-f65de53375cc"
      },
      "execution_count": null,
      "outputs": [
        {
          "output_type": "stream",
          "name": "stdout",
          "text": [
            "[0 1 2 3 4 5 6 7 8 9]\n",
            "0\n",
            "[0 1 2 3 4]\n"
          ]
        }
      ]
    },
    {
      "cell_type": "markdown",
      "source": [
        "###2維資料取值"
      ],
      "metadata": {
        "id": "589u27fWcU-g"
      }
    },
    {
      "cell_type": "code",
      "source": [
        "my_2d_array=np.array([np.arange(0,5),np.arange(5,10)])#存範圍 5*2 的二維資料 (0-4)(5-9)\n",
        "print(my_2d_array)#印my_2d_array\n",
        "print(my_2d_array[1,:])#印my_2d_array第一排\n",
        "print(my_2d_array[:,1])#印my_2d_array不管哪一排的第1個\n",
        "print(my_2d_array[1,1])#印第一排第一個"
      ],
      "metadata": {
        "colab": {
          "base_uri": "https://localhost:8080/"
        },
        "id": "p2hSSDv-cSLh",
        "outputId": "185d0119-2e3f-469a-8325-4f7bedf4fe67"
      },
      "execution_count": null,
      "outputs": [
        {
          "output_type": "stream",
          "name": "stdout",
          "text": [
            "[[0 1 2 3 4]\n",
            " [5 6 7 8 9]]\n",
            "[5 6 7 8 9]\n",
            "[1 6]\n",
            "6\n"
          ]
        }
      ]
    },
    {
      "cell_type": "code",
      "source": [
        "my_array=np.arange(0,10)#存範圍(0-9)\n",
        "print(my_array)#印my_array\n",
        "print(my_array.shape)#印my_array的大小\n",
        "my_2d_array=my_array.reshape(2,5)#把微度改2微 存範圍 5*2 的二維資料 \n",
        "print(my_2d_array)#印my_2d_array\n",
        "print((np.arange(0,100).reshape(10,10)))#印 範圍0-99 10*10"
      ],
      "metadata": {
        "colab": {
          "base_uri": "https://localhost:8080/"
        },
        "id": "xw3MAk_FcYaZ",
        "outputId": "903a64a2-3cef-4476-9c2b-e0fa079bf567"
      },
      "execution_count": null,
      "outputs": [
        {
          "output_type": "stream",
          "name": "stdout",
          "text": [
            "[0 1 2 3 4 5 6 7 8 9]\n",
            "(10,)\n",
            "[[0 1 2 3 4]\n",
            " [5 6 7 8 9]]\n",
            "[[ 0  1  2  3  4  5  6  7  8  9]\n",
            " [10 11 12 13 14 15 16 17 18 19]\n",
            " [20 21 22 23 24 25 26 27 28 29]\n",
            " [30 31 32 33 34 35 36 37 38 39]\n",
            " [40 41 42 43 44 45 46 47 48 49]\n",
            " [50 51 52 53 54 55 56 57 58 59]\n",
            " [60 61 62 63 64 65 66 67 68 69]\n",
            " [70 71 72 73 74 75 76 77 78 79]\n",
            " [80 81 82 83 84 85 86 87 88 89]\n",
            " [90 91 92 93 94 95 96 97 98 99]]\n"
          ]
        }
      ]
    },
    {
      "cell_type": "markdown",
      "source": [
        "#numpy的空值nan"
      ],
      "metadata": {
        "id": "HEjgEAHUcarh"
      }
    },
    {
      "cell_type": "code",
      "source": [
        "\n",
        "b=np.array([56, 8, 19, 14, np.nan])#存資料進b(numpy) numpy.nan空值\n",
        "print(b)#印b"
      ],
      "metadata": {
        "colab": {
          "base_uri": "https://localhost:8080/"
        },
        "id": "Cr62EH7icaU4",
        "outputId": "04dcbdd0-7713-401a-9ee4-7f3e955ea70d"
      },
      "execution_count": null,
      "outputs": [
        {
          "output_type": "stream",
          "name": "stdout",
          "text": [
            "[56.  8. 19. 14. nan]\n"
          ]
        }
      ]
    }
  ]
}