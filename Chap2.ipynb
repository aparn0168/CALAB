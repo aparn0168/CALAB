{
  "nbformat": 4,
  "nbformat_minor": 0,
  "metadata": {
    "colab": {
      "name": "Chap2",
      "provenance": [],
      "mount_file_id": "1nhHa4ajxiTMDqEdctRrB2JvTNfQBb7Hr",
      "authorship_tag": "ABX9TyPeMDwftDP1PkJMp4ZBLpvE",
      "include_colab_link": true
    },
    "kernelspec": {
      "name": "python3",
      "display_name": "Python 3"
    },
    "language_info": {
      "name": "python"
    }
  },
  "cells": [
    {
      "cell_type": "markdown",
      "metadata": {
        "id": "view-in-github",
        "colab_type": "text"
      },
      "source": [
        "<a href=\"https://colab.research.google.com/github/aparn0168/CALAB/blob/main/Chap2.ipynb\" target=\"_parent\"><img src=\"https://colab.research.google.com/assets/colab-badge.svg\" alt=\"Open In Colab\"/></a>"
      ]
    },
    {
      "cell_type": "markdown",
      "source": [
        "##Chap2 流程控制\n",
        "if else , elif"
      ],
      "metadata": {
        "id": "UeXhyawzsswr"
      }
    },
    {
      "cell_type": "code",
      "execution_count": 6,
      "metadata": {
        "id": "6MOUvNOTsizk",
        "colab": {
          "base_uri": "https://localhost:8080/"
        },
        "outputId": "37a88771-a719-4352-9856-79b5fdbeb6c7"
      },
      "outputs": [
        {
          "output_type": "stream",
          "name": "stdout",
          "text": [
            "b>a\n"
          ]
        }
      ],
      "source": [
        "a=4\n",
        "b=3\n",
        "if a>b: ##如果a>b\n",
        "  print(\"a>b\")  ##印a>b\n",
        "elif a==b:##如果a==b\n",
        "  print(\"a==b\")##印a==b\n",
        "else:##其他\n",
        "  print(\"b>a\")##印a<b"
      ]
    },
    {
      "cell_type": "markdown",
      "source": [
        "#成績評鑑"
      ],
      "metadata": {
        "id": "JeXQQpiXxuAw"
      }
    },
    {
      "cell_type": "code",
      "source": [
        "grade=87\n",
        "print(\"成績評鑑：\")##印成績評鑑：\n",
        "if grade >= 90: ##如果grade >= 90\n",
        "    print(\"優等\")##印優等\n",
        "elif grade >=80:##如果grade >= 80\n",
        "    print(\"甲等\")##印甲等\n",
        "elif grade >=70:##如果grade >= 70\n",
        "    print(\"乙等\")##印乙等\n",
        "elif grade >=60:##如果grade >= 60\n",
        "    print(\"丙等\")##印丙等\n",
        "else:##其他\n",
        "    print(\"不及格\")##印不及格"
      ],
      "metadata": {
        "colab": {
          "base_uri": "https://localhost:8080/"
        },
        "id": "Ubh40YcOxptY",
        "outputId": "34b5d333-677a-48c2-9ba6-ec346e84425d"
      },
      "execution_count": 7,
      "outputs": [
        {
          "output_type": "stream",
          "name": "stdout",
          "text": [
            "成績評鑑：\n",
            "甲等\n"
          ]
        }
      ]
    },
    {
      "cell_type": "markdown",
      "source": [
        "#for 迴圈"
      ],
      "metadata": {
        "id": "KDyU6oC514F-"
      }
    },
    {
      "cell_type": "code",
      "source": [
        "for i in range(10):#從0開始 跑10次\n",
        "  print(i)\n",
        "print()\n",
        "for i in range(1, 10, 1):#從1開始 跑到10-1\n",
        "  print(i)"
      ],
      "metadata": {
        "colab": {
          "base_uri": "https://localhost:8080/"
        },
        "id": "jVh__Yyw2s2e",
        "outputId": "a98441e5-f74f-405d-9175-483c17a87225"
      },
      "execution_count": 11,
      "outputs": [
        {
          "output_type": "stream",
          "name": "stdout",
          "text": [
            "0\n",
            "1\n",
            "2\n",
            "3\n",
            "4\n",
            "5\n",
            "6\n",
            "7\n",
            "8\n",
            "9\n",
            "\n",
            "1\n",
            "2\n",
            "3\n",
            "4\n",
            "5\n",
            "6\n",
            "7\n",
            "8\n",
            "9\n"
          ]
        }
      ]
    },
    {
      "cell_type": "code",
      "source": [
        "for c in \"I am a boy\":  \n",
        "  print(c) #依序印出C (一個字一個字切割)\n",
        "print()\n",
        "for p in [\"java\",\"python\",\"c#\"]:\n",
        "  print(p) #依序印出p (一串一串印)"
      ],
      "metadata": {
        "colab": {
          "base_uri": "https://localhost:8080/"
        },
        "id": "n6yGzCZc4fwt",
        "outputId": "0c5dd19e-b22d-4f32-8cf1-07b5d6b6b86c"
      },
      "execution_count": 14,
      "outputs": [
        {
          "output_type": "stream",
          "name": "stdout",
          "text": [
            "I\n",
            " \n",
            "a\n",
            "m\n",
            " \n",
            "a\n",
            " \n",
            "b\n",
            "o\n",
            "y\n",
            "\n",
            "java\n",
            "python\n",
            "c#\n"
          ]
        }
      ]
    },
    {
      "cell_type": "code",
      "source": [
        "#懶\n",
        "#1+2+3+4......+10的總和\n",
        "sum = 0\n",
        "for i in range(11): #從0開始 跑11次\n",
        "    sum += i  #每次+1\n",
        "print(\"1+2+3+4...+10 =\", sum) #印答案"
      ],
      "metadata": {
        "colab": {
          "base_uri": "https://localhost:8080/"
        },
        "id": "3eMjpjT113me",
        "outputId": "57a0c7b1-976d-4a1c-f36a-5e7dc6b778b7"
      },
      "execution_count": 17,
      "outputs": [
        {
          "output_type": "stream",
          "name": "stdout",
          "text": [
            "1+2+3+4...+10 = 55\n"
          ]
        }
      ]
    },
    {
      "cell_type": "code",
      "source": [
        "#標準\n",
        "#1+2+3+4...+10的總和\n",
        "sum = 0\n",
        "for i in range(1, 11, 1): #從1開始， 跑到11-1 , 每次++\n",
        "    sum += i  #每次+1\n",
        "print(\"1+2+3+4...+10 =\", sum) #印答案"
      ],
      "metadata": {
        "colab": {
          "base_uri": "https://localhost:8080/"
        },
        "id": "15LtooMl7TfM",
        "outputId": "fbdc6bda-90d5-468d-8c9c-479833b7cbc0"
      },
      "execution_count": 16,
      "outputs": [
        {
          "output_type": "stream",
          "name": "stdout",
          "text": [
            "1+2+3+4...+10 = 55\n"
          ]
        }
      ]
    },
    {
      "cell_type": "markdown",
      "source": [
        "#雞兔同籠，若共有35個頭，94隻腳，請問有幾隻雞?幾隻兔?"
      ],
      "metadata": {
        "id": "5Nyx2rc082uk"
      }
    },
    {
      "cell_type": "code",
      "source": [
        "for chicken in range(0,36): ##共35隻\n",
        "  rabbit = 35 - chicken  #兔子數量=35-雞數量\n",
        "  if(chicken*2 + rabbit*4) == 94:  #加起來要有94隻腳\n",
        "    print(\"共有\" , chicken , \"隻雞, 有\" , rabbit ,\"隻兔子\") #印解答\n",
        "    break\n",
        "  else:\n",
        "    print(\"無解\")#印解答"
      ],
      "metadata": {
        "colab": {
          "base_uri": "https://localhost:8080/"
        },
        "id": "Oscqx4NM86tK",
        "outputId": "7f739d7b-706f-41b6-a66c-c1e60a5384e7"
      },
      "execution_count": 18,
      "outputs": [
        {
          "output_type": "stream",
          "name": "stdout",
          "text": [
            "共有 23 隻雞, 有 12 隻兔子\n"
          ]
        }
      ]
    },
    {
      "cell_type": "markdown",
      "source": [
        "#while迴圈"
      ],
      "metadata": {
        "id": "aYMI6Bbv9yZC"
      }
    },
    {
      "cell_type": "code",
      "source": [
        "sum=0\n",
        "i=1\n",
        "while i <=10: # i=1, 每次+1, 直到i>10\n",
        "    sum += i#每次+i\n",
        "    i += 1#每次+1\n",
        "print(sum)#印解答"
      ],
      "metadata": {
        "colab": {
          "base_uri": "https://localhost:8080/"
        },
        "id": "0S0f5Ypw90C6",
        "outputId": "3ea41a7a-54c8-4084-c5ac-927529ed321b"
      },
      "execution_count": 23,
      "outputs": [
        {
          "output_type": "stream",
          "name": "stdout",
          "text": [
            "55\n"
          ]
        }
      ]
    }
  ]
}