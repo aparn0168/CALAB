{
  "nbformat": 4,
  "nbformat_minor": 0,
  "metadata": {
    "colab": {
      "name": "Chap1.ipynb",
      "provenance": [],
      "collapsed_sections": [
        "uiGsGa4jpGMQ",
        "41hoL65osUK2",
        "7sN0Dpq8vT2-",
        "jZJTByEKiJWB",
        "fwYsqhl7q1rV",
        "DD-h9h5Ps3sn",
        "mUwZUYg9uwO0"
      ],
      "authorship_tag": "ABX9TyNkSZXOZPnt2WUHhwbzI50q",
      "include_colab_link": true
    },
    "kernelspec": {
      "name": "python3",
      "display_name": "Python 3"
    },
    "language_info": {
      "name": "python"
    }
  },
  "cells": [
    {
      "cell_type": "markdown",
      "metadata": {
        "id": "view-in-github",
        "colab_type": "text"
      },
      "source": [
        "<a href=\"https://colab.research.google.com/github/aparn0168/CALAB/blob/main/Chap1.ipynb\" target=\"_parent\"><img src=\"https://colab.research.google.com/assets/colab-badge.svg\" alt=\"Open In Colab\"/></a>"
      ]
    },
    {
      "cell_type": "markdown",
      "source": [
        "##Chap 1 運算式、變數與資料型別\n",
        "註解\n"
      ],
      "metadata": {
        "id": "uiGsGa4jpGMQ"
      }
    },
    {
      "cell_type": "code",
      "execution_count": null,
      "metadata": {
        "colab": {
          "base_uri": "https://localhost:8080/"
        },
        "id": "oNBBbQF0pFsk",
        "outputId": "628309f8-eb19-4813-cfc6-fbfe0379422b"
      },
      "outputs": [
        {
          "output_type": "stream",
          "name": "stdout",
          "text": [
            "15\n"
          ]
        }
      ],
      "source": [
        "#單行註解\n",
        "\n",
        "'''\n",
        "多行註解\n",
        "多行註解\n",
        "多行註解\n",
        "enter 左邊\n",
        "'''\n",
        "\n",
        "a=5\n",
        "b=3\n",
        "print(a*b)"
      ]
    },
    {
      "cell_type": "markdown",
      "source": [
        "#運算式\n",
        "變數交換"
      ],
      "metadata": {
        "id": "41hoL65osUK2"
      }
    },
    {
      "cell_type": "code",
      "source": [
        "#透過第三變數做交換\n",
        "a=10\n",
        "b=5\n",
        "z=a\n",
        "a=b\n",
        "b=z\n",
        "print(\"a=\"+str(a))\n",
        "print(\"b=\"+str(b))"
      ],
      "metadata": {
        "colab": {
          "base_uri": "https://localhost:8080/"
        },
        "id": "-xrhL4dmsZbF",
        "outputId": "a683535c-47e7-402e-b498-659cde13f399"
      },
      "execution_count": null,
      "outputs": [
        {
          "output_type": "stream",
          "name": "stdout",
          "text": [
            "a=5\n",
            "b=10\n"
          ]
        }
      ]
    },
    {
      "cell_type": "code",
      "source": [
        "#變數交換 , 不使用第三變數\n",
        "a=10\n",
        "b=5\n",
        "\n",
        "a=a+b\n",
        "b=a-b\n",
        "a=a-b\n",
        "\n",
        "print(\"a=\"+str(a))\n",
        "print(\"b=\"+str(b))"
      ],
      "metadata": {
        "colab": {
          "base_uri": "https://localhost:8080/"
        },
        "id": "wne-agjFtpCt",
        "outputId": "b892df89-3668-42b8-ffce-6bbb23e4d141"
      },
      "execution_count": null,
      "outputs": [
        {
          "output_type": "stream",
          "name": "stdout",
          "text": [
            "a=5\n",
            "b=10\n"
          ]
        }
      ]
    },
    {
      "cell_type": "code",
      "source": [
        "#python版本 變數交換\n",
        "a=10\n",
        "b=5\n",
        "a,b = b,a\n",
        "print(\"a=\"+str(a))\n",
        "print(\"b=\"+str(b))"
      ],
      "metadata": {
        "colab": {
          "base_uri": "https://localhost:8080/"
        },
        "id": "RmCMQgmLu_oH",
        "outputId": "752acb3a-4375-4f7c-b0b0-707efaeecab9"
      },
      "execution_count": null,
      "outputs": [
        {
          "output_type": "stream",
          "name": "stdout",
          "text": [
            "a=5\n",
            "b=10\n"
          ]
        }
      ]
    },
    {
      "cell_type": "markdown",
      "source": [
        "#變數\n"
      ],
      "metadata": {
        "id": "7sN0Dpq8vT2-"
      }
    },
    {
      "cell_type": "code",
      "source": [
        "#變數的平行設定\n",
        "a,b,c = 10,100,1000\n",
        "print(a,b,c)"
      ],
      "metadata": {
        "colab": {
          "base_uri": "https://localhost:8080/"
        },
        "id": "8iw0OpBUvXtV",
        "outputId": "29391d9f-4a5a-4877-e2dd-ec645a510e1d"
      },
      "execution_count": null,
      "outputs": [
        {
          "output_type": "stream",
          "name": "stdout",
          "text": [
            "10 100 1000\n"
          ]
        }
      ]
    },
    {
      "cell_type": "code",
      "source": [
        "a,b,c = 3,5,7\n",
        "\n",
        "a+=1\n",
        "b*=2\n",
        "c**=3\n",
        "print(a,b,c)"
      ],
      "metadata": {
        "colab": {
          "base_uri": "https://localhost:8080/"
        },
        "id": "PzovAFsxevG7",
        "outputId": "b2f55e4e-61f3-472d-d984-1b89e7d3e309"
      },
      "execution_count": null,
      "outputs": [
        {
          "output_type": "stream",
          "name": "stdout",
          "text": [
            "4 10 343\n"
          ]
        }
      ]
    },
    {
      "cell_type": "markdown",
      "source": [
        "##變數應用\n",
        "Q半徑為10的圖形，其面積大小為何?"
      ],
      "metadata": {
        "id": "jZJTByEKiJWB"
      }
    },
    {
      "cell_type": "code",
      "source": [
        "import math\n",
        "r = 10\n",
        "print(r*r*math.pi)"
      ],
      "metadata": {
        "colab": {
          "base_uri": "https://localhost:8080/"
        },
        "id": "duFKklLviZRS",
        "outputId": "8f2fb083-79db-4814-e6cc-8df40a7a3b9f"
      },
      "execution_count": null,
      "outputs": [
        {
          "output_type": "stream",
          "name": "stdout",
          "text": [
            "314.1592653589793\n"
          ]
        }
      ]
    },
    {
      "cell_type": "code",
      "source": [
        "import math\n",
        "r= eval(input(\"請輸入圓半徑 : \")) #eval()將字串轉化成數值運算\n",
        "\n",
        "print(r*r*math.pi)"
      ],
      "metadata": {
        "id": "0g_Fh647kYQZ"
      },
      "execution_count": null,
      "outputs": []
    },
    {
      "cell_type": "markdown",
      "source": [
        "##資料型別\n",
        "python屬於動態類型變數，使用前不需要宣告資料型態"
      ],
      "metadata": {
        "id": "fwYsqhl7q1rV"
      }
    },
    {
      "cell_type": "code",
      "source": [
        "x = 254\n",
        "y = 254.0\n",
        "z = \"test\"\n",
        "\n",
        "print(type(x))\n",
        "print(type(y))\n",
        "print(type(z))\n",
        "print(type(x==y))"
      ],
      "metadata": {
        "colab": {
          "base_uri": "https://localhost:8080/"
        },
        "id": "XnA-Gbh1qux_",
        "outputId": "be305d3b-4549-4077-fb64-35a6a1b5941a"
      },
      "execution_count": null,
      "outputs": [
        {
          "output_type": "stream",
          "name": "stdout",
          "text": [
            "<class 'int'>\n",
            "<class 'float'>\n",
            "<class 'str'>\n",
            "<class 'bool'>\n"
          ]
        }
      ]
    },
    {
      "cell_type": "markdown",
      "source": [
        "##算術符號"
      ],
      "metadata": {
        "id": "DD-h9h5Ps3sn"
      }
    },
    {
      "cell_type": "code",
      "source": [
        "x = 10\n",
        "y = 3\n",
        "print(x / y)\n",
        "print(x // y) #取商\n",
        "print(x % y)  #取餘"
      ],
      "metadata": {
        "id": "QrpuVtm6s59v"
      },
      "execution_count": null,
      "outputs": []
    },
    {
      "cell_type": "markdown",
      "source": [
        "##算術符號的順序\n",
        "()括號 > *次方 > / 乘除 > +-加減"
      ],
      "metadata": {
        "id": "mUwZUYg9uwO0"
      }
    },
    {
      "cell_type": "code",
      "source": [
        "x=(5*(1+2)**2-3+4/2)\n",
        "print(x)"
      ],
      "metadata": {
        "colab": {
          "base_uri": "https://localhost:8080/"
        },
        "id": "v85uhzjHus8W",
        "outputId": "960cc4e4-a590-4bc1-9330-39d4228df0fb"
      },
      "execution_count": null,
      "outputs": [
        {
          "output_type": "stream",
          "name": "stdout",
          "text": [
            "44.0\n"
          ]
        }
      ]
    },
    {
      "cell_type": "code",
      "source": [
        "x= \"must\"\n",
        "print(type(x))\n",
        "y = 10\n",
        "print(10 * y)\n",
        "print(10 * x)\n",
        "z = \"10\"\n",
        "print(10*z)\n",
        "print(10*int(z))\n",
        "print(10*float(z))\n",
        "print(10*str(z))\n",
        "print(10*str(y))\n",
        "print(10*eval(\"5*2\"))"
      ],
      "metadata": {
        "colab": {
          "base_uri": "https://localhost:8080/"
        },
        "id": "hICBuU-jnJpc",
        "outputId": "8519faa8-574d-4b40-92ad-f31c0b9c4ef6"
      },
      "execution_count": null,
      "outputs": [
        {
          "output_type": "stream",
          "name": "stdout",
          "text": [
            "<class 'str'>\n",
            "100\n",
            "mustmustmustmustmustmustmustmustmustmust\n",
            "10101010101010101010\n",
            "100\n",
            "100.0\n",
            "10101010101010101010\n",
            "10101010101010101010\n",
            "100\n"
          ]
        }
      ]
    },
    {
      "cell_type": "markdown",
      "source": [
        "#print的三種方式\n",
        "* 透過,區隔要列印的變數 eg: print(\"This\", \"is\", \"a\", \"book\")\n",
        "\n",
        "* 利用字串的str.format() (新式)\n",
        "\n",
        "* 格式化输出字符串 (舊式)"
      ],
      "metadata": {
        "id": "v4Chsevmx9vW"
      }
    },
    {
      "cell_type": "code",
      "source": [
        "a = \"This\"+\"is\"+\"a\"+\"book\"\n",
        "print(a)\n",
        "## Thisisabook\n",
        "print(\"This\",\"is\",\"a\",\"book\")\n",
        "## This is a book\n",
        "print(\"This\"+\"is\"+\"a\"+\"book\")\n",
        "## Thisisabook"
      ],
      "metadata": {
        "colab": {
          "base_uri": "https://localhost:8080/"
        },
        "id": "bLU3ztU0yRnV",
        "outputId": "1903bf80-a4f8-45e0-8420-1bb204673c59"
      },
      "execution_count": null,
      "outputs": [
        {
          "output_type": "stream",
          "name": "stdout",
          "text": [
            "Thisisabook\n",
            "This is a book\n",
            "Thisisabook\n"
          ]
        }
      ]
    },
    {
      "cell_type": "markdown",
      "source": [
        "利用字串的str.format()，在{ }中替代變數的位置\n",
        "eg: print(\"This {} a book\".format(\"is\"))\n",
        "{}中可以設定格式"
      ],
      "metadata": {
        "id": "heTDrVbe195s"
      }
    }
  ]
}