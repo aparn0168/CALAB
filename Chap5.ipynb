{
  "nbformat": 4,
  "nbformat_minor": 0,
  "metadata": {
    "colab": {
      "name": "Chap5",
      "provenance": [],
      "collapsed_sections": [],
      "authorship_tag": "ABX9TyOt9ndA8MqtHIkS0fGXRM23",
      "include_colab_link": true
    },
    "kernelspec": {
      "name": "python3",
      "display_name": "Python 3"
    },
    "language_info": {
      "name": "python"
    }
  },
  "cells": [
    {
      "cell_type": "markdown",
      "metadata": {
        "id": "view-in-github",
        "colab_type": "text"
      },
      "source": [
        "<a href=\"https://colab.research.google.com/github/aparn0168/CALAB/blob/main/Chap5.ipynb\" target=\"_parent\"><img src=\"https://colab.research.google.com/assets/colab-badge.svg\" alt=\"Open In Colab\"/></a>"
      ]
    },
    {
      "cell_type": "markdown",
      "source": [
        "#函式(數)\n",
        "##傳統的寫法"
      ],
      "metadata": {
        "id": "nwlsOr8CcvMx"
      }
    },
    {
      "cell_type": "code",
      "execution_count": null,
      "metadata": {
        "colab": {
          "base_uri": "https://localhost:8080/"
        },
        "id": "U7AiGdGtctA2",
        "outputId": "12dafe4c-e48f-4a67-aaf6-fb2dd6f05497"
      },
      "outputs": [
        {
          "output_type": "stream",
          "name": "stdout",
          "text": [
            "請輸入圓的半徑：100\n",
            "圓的面積為： 31415.926535897932\n"
          ]
        }
      ],
      "source": [
        "import math   #使用math\n",
        "radius = eval(input(\"請輸入圓的半徑：\")) #把輸入的字串變成數學計算型態\n",
        "print(\"圓的面積為：\", radius * radius * math.pi) #計算園面積"
      ]
    },
    {
      "cell_type": "markdown",
      "source": [
        "#面積計算函示"
      ],
      "metadata": {
        "id": "J5QDCyMjc4wA"
      }
    },
    {
      "cell_type": "code",
      "source": [
        "import math   #使用math\n",
        "def circle_area(radius): #做一個函示\n",
        "    area = radius * radius * math.pi #計算園面積\n",
        "    return area #回傳答案\n",
        "\n",
        "print(circle_area(10)) #印出半徑為10的圓面積"
      ],
      "metadata": {
        "id": "Qa7XGdVZc7NA",
        "outputId": "db903ed0-e84a-4903-fcb7-86d88c6e7c14",
        "colab": {
          "base_uri": "https://localhost:8080/"
        }
      },
      "execution_count": null,
      "outputs": [
        {
          "output_type": "stream",
          "name": "stdout",
          "text": [
            "314.1592653589793\n"
          ]
        }
      ]
    }
  ]
}