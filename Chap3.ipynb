{
  "nbformat": 4,
  "nbformat_minor": 0,
  "metadata": {
    "colab": {
      "name": "Chap3.ipynb",
      "provenance": [],
      "collapsed_sections": [],
      "authorship_tag": "ABX9TyOiCdNBbV0GUVsIR/dSU3D3",
      "include_colab_link": true
    },
    "kernelspec": {
      "name": "python3",
      "display_name": "Python 3"
    },
    "language_info": {
      "name": "python"
    }
  },
  "cells": [
    {
      "cell_type": "markdown",
      "metadata": {
        "id": "view-in-github",
        "colab_type": "text"
      },
      "source": [
        "<a href=\"https://colab.research.google.com/github/aparn0168/CALAB/blob/main/Chap3.ipynb\" target=\"_parent\"><img src=\"https://colab.research.google.com/assets/colab-badge.svg\" alt=\"Open In Colab\"/></a>"
      ]
    },
    {
      "cell_type": "markdown",
      "source": [
        "#Tuple (元組)\n",
        "tuple(元組)可視為不可改變的串列，tuple跟list很像，但是我們不能新增、刪除或更新tuple的元素。tuple的好處有：\n",
        "\n",
        "#####1.佔用較少空間\n",
        "#####2.可當作dictionary(字典)的鍵值\n",
        "#####3.可當作函式引數"
      ],
      "metadata": {
        "id": "kC8KjwYGuSr_"
      }
    },
    {
      "cell_type": "code",
      "source": [
        "a_tuple=('python', 'js', 'SQL')\n",
        "print(a_tuple)# 印a_tuple\n",
        "b_list=['go', 'c#', 'vb']\n",
        "b_tuple=tuple(b_list)#把b_list轉成tuple存到b_tuple\n",
        "print(b_tuple)# 印b_tuple\n",
        "print(b_tuple[0])# 印b_tuple第0項"
      ],
      "metadata": {
        "colab": {
          "base_uri": "https://localhost:8080/"
        },
        "id": "uZyafI7Du39-",
        "outputId": "0661816a-cb66-4e80-8854-0a4ad562e234"
      },
      "execution_count": null,
      "outputs": [
        {
          "output_type": "stream",
          "name": "stdout",
          "text": [
            "('python', 'js', 'SQL')\n",
            "('go', 'c#', 'vb')\n",
            "go\n"
          ]
        }
      ]
    },
    {
      "cell_type": "code",
      "source": [
        ""
      ],
      "metadata": {
        "id": "gaNjKx2vHLxP"
      },
      "execution_count": null,
      "outputs": []
    },
    {
      "cell_type": "markdown",
      "source": [
        "#字典(dictionary - dict)為帶有鍵值(key)的串列(list)"
      ],
      "metadata": {
        "id": "ooli2i-mu-NV"
      }
    },
    {
      "cell_type": "code",
      "source": [
        "a_dic ={0:'go', 1:'c#' ,2:'vb'} #索引值(鍵值)可以自訂\n",
        "print(a_dic)#印a_dic\n",
        "print(a_dic[1])#印a_dic第一項\n",
        "b_dic ={'name':'mary', 'sex':'c#' ,'sid':'vb'} #索引值(鍵值)可以自訂\n",
        "print(b_dic)#印b_dic\n",
        "print(b_dic['name'])#印b_dic索引值是name的值\n"
      ],
      "metadata": {
        "colab": {
          "base_uri": "https://localhost:8080/"
        },
        "id": "NX5lWCZdJ1Zg",
        "outputId": "46bee2f7-0efc-4649-c9eb-1f9ea1e36a64"
      },
      "execution_count": null,
      "outputs": [
        {
          "output_type": "stream",
          "name": "stdout",
          "text": [
            "{0: 'go', 1: 'c#', 2: 'vb'}\n",
            "c#\n",
            "{'name': 'mary', 'sex': 'c#', 'sid': 'vb'}\n",
            "mary\n"
          ]
        }
      ]
    },
    {
      "cell_type": "code",
      "source": [
        "languages = {}\n",
        "languages = {'name':'python', 'version':'3.7'} #索引值(鍵值)可以自訂\n",
        "print(languages['name'])#印出索引值是name的值\n",
        "print(languages['version'])#印出索引值是version的值\n",
        "a={0:'python', 1:'java', 2:'SQL'} #索引值(鍵值)可以自訂\n",
        "print(a[0])#印出索引值是0的值\n",
        "print(a[1])#印出索引值是1的值\n",
        "print(a[2])#印出索引值是2的值\n",
        "print(languages)#印出完整的LIST(包含索引跟鍵值)\n",
        "print(languages.keys())#印出索引值\n",
        "print(languages.values())#印出鍵值\n",
        "print(languages.items())#一個一個印出\n",
        "print('name' in languages)#判斷LIST內有沒有name"
      ],
      "metadata": {
        "colab": {
          "base_uri": "https://localhost:8080/"
        },
        "id": "ZuGuJYDQu99N",
        "outputId": "565c52e1-b8b8-4c50-a058-f2132da1d072"
      },
      "execution_count": null,
      "outputs": [
        {
          "output_type": "stream",
          "name": "stdout",
          "text": [
            "python\n",
            "3.7\n",
            "python\n",
            "java\n",
            "SQL\n",
            "{'name': 'python', 'version': '3.7'}\n",
            "dict_keys(['name', 'version'])\n",
            "dict_values(['python', '3.7'])\n",
            "dict_items([('name', 'python'), ('version', '3.7')])\n",
            "True\n"
          ]
        }
      ]
    },
    {
      "cell_type": "markdown",
      "source": [
        "#Python物件\n",
        "##List[串列] Tuple(元組) Dictionary{字典} Sets{集合}\n",
        "List[串列] 使用中括號[] 包裹元素"
      ],
      "metadata": {
        "id": "SM3DkkLW5bP5"
      }
    },
    {
      "cell_type": "code",
      "source": [
        "score = [88, 60, 30, 25, 77]\n",
        "print(score[0]) #從0開始\n",
        "print(score[1]) #印第2個\n",
        "print(score[-1]) #印倒數第一\n",
        "print(score[-2])  #印倒數第二"
      ],
      "metadata": {
        "colab": {
          "base_uri": "https://localhost:8080/"
        },
        "id": "8j9BmDA-5vcE",
        "outputId": "8b35b6c1-9785-42f8-b6df-460f4179f74c"
      },
      "execution_count": null,
      "outputs": [
        {
          "output_type": "stream",
          "name": "stdout",
          "text": [
            "88\n",
            "60\n",
            "77\n",
            "25\n"
          ]
        }
      ]
    },
    {
      "cell_type": "code",
      "source": [
        "score = [88, 60, 30, 25, 77]\n",
        "print(score[0:3])  #從0到3不含3\n",
        "print(score[:3])  #前印3到3不含3\n",
        "print(score[3:])  #從第3個開始印\n",
        "print(score[:])   #印全部"
      ],
      "metadata": {
        "colab": {
          "base_uri": "https://localhost:8080/"
        },
        "id": "ABGasDKzBmgb",
        "outputId": "e54cdb07-663d-4637-99d1-9c19613faed9"
      },
      "execution_count": null,
      "outputs": [
        {
          "output_type": "stream",
          "name": "stdout",
          "text": [
            "[88, 60, 30]\n",
            "[88, 60, 30]\n",
            "[25, 77]\n",
            "[88, 60, 30, 25, 77]\n"
          ]
        }
      ]
    },
    {
      "cell_type": "code",
      "source": [
        "score = [88, 60, 30, 25, 77]\n",
        "print(score[0:5:2])  #從0印到5不含5 間隔2\n",
        "print(score[::2])   #間隔2 印全部\n",
        "print(score[4:0:-1])  #從4印到0不含0 間隔-1\n",
        "print(score[0:4:-1])  #從0印到4不含4 間隔-1"
      ],
      "metadata": {
        "colab": {
          "base_uri": "https://localhost:8080/"
        },
        "id": "AGYygkvWD9pZ",
        "outputId": "9493c53a-829e-4a82-b784-e68928deba84"
      },
      "execution_count": null,
      "outputs": [
        {
          "output_type": "stream",
          "name": "stdout",
          "text": [
            "[88, 30, 77]\n",
            "[88, 30, 77]\n",
            "[77, 25, 30, 60]\n",
            "[]\n"
          ]
        }
      ]
    },
    {
      "cell_type": "code",
      "source": [
        "astr = \"abckdfghijklmnopqrstuvwxyz\"\n",
        "print(astr[0])    #印0\n",
        "print(astr[-1])   #印最後\n",
        "print(astr[5:20])  #從5印到20不含20\n",
        "print(astr[5:20:3])  #從5印到20不含20 間隔3\n",
        "print(astr[20:5:-1])  #從5印到20不含20 間隔3\n",
        "print(astr[20:5:-3])  #從5印到20不含20 間隔3\n",
        "print(astr[::-3])  #從5印到20不含20 間隔3\n",
        "print(astr[3:15:-1])  #從5印到20不含20 間隔3"
      ],
      "metadata": {
        "colab": {
          "base_uri": "https://localhost:8080/"
        },
        "id": "wvUvY1VoFocN",
        "outputId": "3cdd2edf-2d4d-4582-8387-be133e22c96d"
      },
      "execution_count": null,
      "outputs": [
        {
          "output_type": "stream",
          "name": "stdout",
          "text": [
            "a\n",
            "z\n",
            "fghijklmnopqrst\n",
            "filor\n"
          ]
        }
      ]
    },
    {
      "cell_type": "code",
      "source": [
        "mylist0 = []  #建立一個空陣列\n",
        "print(mylist0)  #印一個空陣列\n",
        "mylist2 = [\"python\",\"java\",\"C#\"]  #建立一個陣列 把資料 放進去\n",
        "print(mylist2)  #印陣列內容\n",
        "print(mylist2[0])#印指定陣列內容\n"
      ],
      "metadata": {
        "colab": {
          "base_uri": "https://localhost:8080/"
        },
        "id": "RaadCmgU8tVO",
        "outputId": "3c008f67-783f-4be2-e654-792539b6578e"
      },
      "execution_count": null,
      "outputs": [
        {
          "output_type": "stream",
          "name": "stdout",
          "text": [
            "[]\n",
            "['python', 'java', 'C#']\n",
            "python\n"
          ]
        }
      ]
    },
    {
      "cell_type": "code",
      "source": [
        "mylist2 = [\"python\",\"java\",\"C#\"]  #建立一個陣列 把資料放進去\n",
        "print(len(mylist2))  #印陣列長度\n",
        "mylist2.append(\"javascript\") #加一筆資料在最後面\n",
        "print(mylist2)  #印陣列內容\n",
        "mylist2.remove(\"javascript\") #陣列中刪除資料\n",
        "print(mylist2)  #印陣列內容\n",
        "mylist2.insert(1,\"javascript\") #陣列中插入資料\n",
        "print(mylist2)  #印陣列內容"
      ],
      "metadata": {
        "colab": {
          "base_uri": "https://localhost:8080/"
        },
        "id": "4quuAoBe_Vi0",
        "outputId": "ca0f3330-df62-43e4-8ec0-df80f8f8791a"
      },
      "execution_count": null,
      "outputs": [
        {
          "output_type": "stream",
          "name": "stdout",
          "text": [
            "3\n",
            "['python', 'java', 'C#', 'javascript']\n",
            "['python', 'java', 'C#']\n",
            "['python', 'javascript', 'java', 'C#']\n"
          ]
        }
      ]
    }
  ]
}