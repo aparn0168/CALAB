{
  "nbformat": 4,
  "nbformat_minor": 0,
  "metadata": {
    "colab": {
      "name": "Chap6",
      "provenance": [],
      "collapsed_sections": [],
      "authorship_tag": "ABX9TyNtralUG9tdL3723NnZmKwH",
      "include_colab_link": true
    },
    "kernelspec": {
      "name": "python3",
      "display_name": "Python 3"
    },
    "language_info": {
      "name": "python"
    }
  },
  "cells": [
    {
      "cell_type": "markdown",
      "metadata": {
        "id": "view-in-github",
        "colab_type": "text"
      },
      "source": [
        "<a href=\"https://colab.research.google.com/github/aparn0168/CALAB/blob/main/Chap6.ipynb\" target=\"_parent\"><img src=\"https://colab.research.google.com/assets/colab-badge.svg\" alt=\"Open In Colab\"/></a>"
      ]
    },
    {
      "cell_type": "markdown",
      "source": [
        "#Chap6\n",
        "os套件：用來處理文件與目錄，與檔案相關操作"
      ],
      "metadata": {
        "id": "CuPR2plf85dj"
      }
    },
    {
      "cell_type": "code",
      "execution_count": null,
      "metadata": {
        "colab": {
          "base_uri": "https://localhost:8080/"
        },
        "id": "Zbptt8WQ8rUs",
        "outputId": "e3ccc0a7-bad9-485c-e0a1-28e65f60b197"
      },
      "outputs": [
        {
          "output_type": "stream",
          "name": "stdout",
          "text": [
            "/content\n"
          ]
        }
      ],
      "source": [
        "import os\n",
        "print(os.getcwd()) #顯示目前所在的工作目錄"
      ]
    },
    {
      "cell_type": "code",
      "source": [
        "os.listdir(\".\") #顯示目錄下的檔案"
      ],
      "metadata": {
        "colab": {
          "base_uri": "https://localhost:8080/"
        },
        "id": "MJXBDKsa9UBK",
        "outputId": "d611d569-7279-41dd-8e71-2080e506c7dd"
      },
      "execution_count": null,
      "outputs": [
        {
          "output_type": "execute_result",
          "data": {
            "text/plain": [
              "['.config', 'sample_data']"
            ]
          },
          "metadata": {},
          "execution_count": 2
        }
      ]
    },
    {
      "cell_type": "code",
      "source": [
        "os.makedirs(\"test\") #新增目錄\n",
        "os.listdir(\".\") #顯示目錄下的檔案"
      ],
      "metadata": {
        "colab": {
          "base_uri": "https://localhost:8080/"
        },
        "id": "3nOxb4WF9nXr",
        "outputId": "965e4d4b-f5be-499f-e3d2-98a30afeb84a"
      },
      "execution_count": null,
      "outputs": [
        {
          "output_type": "execute_result",
          "data": {
            "text/plain": [
              "['.config', 'test', 'sample_data']"
            ]
          },
          "metadata": {},
          "execution_count": 3
        }
      ]
    },
    {
      "cell_type": "code",
      "source": [
        "os.rmdir(\"test\") #移除目錄\n",
        "os.listdir(\".\") #顯示目錄下的檔案"
      ],
      "metadata": {
        "colab": {
          "base_uri": "https://localhost:8080/"
        },
        "id": "_AP6TjlR9yT5",
        "outputId": "063121d3-f03f-49ad-9541-13f4ab749571"
      },
      "execution_count": null,
      "outputs": [
        {
          "output_type": "execute_result",
          "data": {
            "text/plain": [
              "['.config', 'sample_data']"
            ]
          },
          "metadata": {},
          "execution_count": 4
        }
      ]
    },
    {
      "cell_type": "markdown",
      "source": [
        "##檔案處理\n",
        "- os套件有自己的檔案處理命令，而比較常用的是python內建的open\n",
        "\n",
        "- w = 可寫(預設建立檔案) 若檔案存在則會清除舊檔案\n",
        "- w+ = 可寫可讀(預設建立檔案) 若檔案存在則會清除舊檔案\n",
        "- r = 可讀\n",
        "- r+ = 可寫可讀 但寫入資料指向開頭\n",
        "- a = 可寫不能讀 寫入資料指向尾端\n",
        "- a+ = 可寫可讀 寫入資料指向尾端\n",
        "- b = 轉為2進位文件\n",
        "- ab+ = 2進位文件的讀寫 寫入資料指向尾端"
      ],
      "metadata": {
        "id": "cc4Q1rwe_tpR"
      }
    },
    {
      "cell_type": "code",
      "source": [
        "a=open(\"a.txt\",\"w\") #新增檔案 OR 打開檔案\n",
        "a.write(\"This is a LINE1\") #寫內容\n",
        "a.write(\"This is a LINE2\\n\") #寫內容\n",
        "a.write(\"This is a LINE3\\n\") #寫內容\n",
        "a.close() #關閉檔案"
      ],
      "metadata": {
        "id": "5wwoK7nH_9LQ"
      },
      "execution_count": null,
      "outputs": []
    },
    {
      "cell_type": "code",
      "source": [
        "\n",
        "os.path.isfile(\"a.txt\") #檢查檔案是否存在"
      ],
      "metadata": {
        "colab": {
          "base_uri": "https://localhost:8080/"
        },
        "id": "u_fy7XQtB0vH",
        "outputId": "9fd8307f-ced5-4419-da6b-920095d3cff9"
      },
      "execution_count": null,
      "outputs": [
        {
          "output_type": "execute_result",
          "data": {
            "text/plain": [
              "True"
            ]
          },
          "metadata": {},
          "execution_count": 6
        }
      ]
    },
    {
      "cell_type": "code",
      "source": [
        "a=open(\"a.txt\",\"r\") #新增檔案 OR 打開檔案\n",
        "print(a.readline()) #讀檔案\n",
        "print(a.readline()) #讀檔案\n",
        "print(a.readline()) #多餘的命令，檔案只有2行\n",
        "a.close() #關閉檔案"
      ],
      "metadata": {
        "colab": {
          "base_uri": "https://localhost:8080/"
        },
        "id": "0w9BA44xDjhO",
        "outputId": "b7cbbe4d-5355-40fa-fbcc-09af3b78d14b"
      },
      "execution_count": null,
      "outputs": [
        {
          "output_type": "stream",
          "name": "stdout",
          "text": [
            "This is a LINE1This is a LINE2\n",
            "\n",
            "This is a LINE3\n",
            "\n",
            "\n"
          ]
        }
      ]
    },
    {
      "cell_type": "code",
      "source": [
        "a=open(\"a.txt\",\"r\") #新增檔案 OR 打開檔案\n",
        "print(a.readlines()) #一次讀取多行，與a.read()命令相同\n",
        "a.close() #關閉檔案"
      ],
      "metadata": {
        "colab": {
          "base_uri": "https://localhost:8080/"
        },
        "id": "WnDBlCoZD2ZG",
        "outputId": "33925dd4-9c17-4143-8fca-14e2a058e305"
      },
      "execution_count": null,
      "outputs": [
        {
          "output_type": "stream",
          "name": "stdout",
          "text": [
            "['This is a LINE1This is a LINE2\\n', 'This is a LINE3\\n']\n"
          ]
        }
      ]
    },
    {
      "cell_type": "code",
      "source": [
        "#加上檔案是否存在的判斷\n",
        "if os.path.isfile(\"a.txt\"): #IF判斷檔案是否存在\n",
        "    a=open(\"a.txt\",\"r\") #打開檔案\n",
        "    print(a.readlines()) #一次讀取多行\n",
        "    a.close() #關閉檔案\n",
        "else: #如不存在\n",
        "    print(\"檔案不存在\") #印檔案不存在"
      ],
      "metadata": {
        "colab": {
          "base_uri": "https://localhost:8080/"
        },
        "id": "UldHA-EIEAwl",
        "outputId": "83e7eb33-efae-4e09-b54a-cc8928848504"
      },
      "execution_count": null,
      "outputs": [
        {
          "output_type": "stream",
          "name": "stdout",
          "text": [
            "['This is a LINE1This is a LINE2\\n', 'This is a LINE3\\n']\n"
          ]
        }
      ]
    },
    {
      "cell_type": "code",
      "source": [
        "a=open(\"a.txt\",\"a\") #參數a寫入資料指向尾端\n",
        "a.write(\"This is a LINE4\\n\") #讀檔案\n",
        "a.close() #關閉檔案"
      ],
      "metadata": {
        "id": "Yn1e0CIAIoCc"
      },
      "execution_count": null,
      "outputs": []
    },
    {
      "cell_type": "code",
      "source": [
        "a=open(\"a.txt\",\"r\") #打開檔案\n",
        "print(a.readlines()) #一次讀取多行\n",
        "a.close() #關閉檔案"
      ],
      "metadata": {
        "colab": {
          "base_uri": "https://localhost:8080/"
        },
        "id": "8PPv7ds-I6tE",
        "outputId": "e71c61f4-95b7-4daf-fa33-7e4cb13c0b77"
      },
      "execution_count": null,
      "outputs": [
        {
          "output_type": "stream",
          "name": "stdout",
          "text": [
            "['This is a LINE1This is a LINE2\\n', 'This is a LINE3\\n', 'This is a LINE4']\n"
          ]
        }
      ]
    },
    {
      "cell_type": "code",
      "source": [
        "a=open(\"a.txt\",\"r+\") #參數r+寫入資料指向開頭\n",
        "a.write(\"This is a LINE5\\n\") #讀檔案\n",
        "a.close() #關閉檔案"
      ],
      "metadata": {
        "id": "8FKjd9eUJZKz"
      },
      "execution_count": null,
      "outputs": []
    },
    {
      "cell_type": "code",
      "source": [
        "a=open(\"a.txt\",\"r\") #打開檔案\n",
        "print(a.readlines()) #一次讀取多行\n",
        "a.close() #關閉檔案"
      ],
      "metadata": {
        "colab": {
          "base_uri": "https://localhost:8080/"
        },
        "id": "dfUE-gGZJYr0",
        "outputId": "9d1e2b57-2526-4ae4-d5c1-094664cecd06"
      },
      "execution_count": null,
      "outputs": [
        {
          "output_type": "stream",
          "name": "stdout",
          "text": [
            "['This is a LINE5\\n', 'his is a LINE2\\n', 'This is a LINE3\\n', 'This is a LINE4']\n"
          ]
        }
      ]
    }
  ]
}