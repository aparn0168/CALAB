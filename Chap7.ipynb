{
  "nbformat": 4,
  "nbformat_minor": 0,
  "metadata": {
    "colab": {
      "name": "Chap7",
      "provenance": [],
      "collapsed_sections": [],
      "authorship_tag": "ABX9TyOY6C0fgX7f5yUIYBjoNT8e",
      "include_colab_link": true
    },
    "kernelspec": {
      "name": "python3",
      "display_name": "Python 3"
    },
    "language_info": {
      "name": "python"
    }
  },
  "cells": [
    {
      "cell_type": "markdown",
      "metadata": {
        "id": "view-in-github",
        "colab_type": "text"
      },
      "source": [
        "<a href=\"https://colab.research.google.com/github/aparn0168/CALAB/blob/main/Chap7.ipynb\" target=\"_parent\"><img src=\"https://colab.research.google.com/assets/colab-badge.svg\" alt=\"Open In Colab\"/></a>"
      ]
    },
    {
      "cell_type": "markdown",
      "source": [
        "#Chap7 錯誤處理\n",
        "######try:\n",
        "######except:\n",
        "######else:\n",
        "######finally:"
      ],
      "metadata": {
        "id": "Cxun3TzfBSwu"
      }
    },
    {
      "cell_type": "code",
      "execution_count": null,
      "metadata": {
        "colab": {
          "base_uri": "https://localhost:8080/",
          "height": 209
        },
        "id": "GQUuLqsyDxjl",
        "outputId": "bb8136ef-c020-43b6-e05d-9fb6c438cabb"
      },
      "outputs": [
        {
          "output_type": "error",
          "ename": "NameError",
          "evalue": "ignored",
          "traceback": [
            "\u001b[0;31m---------------------------------------------------------------------------\u001b[0m",
            "\u001b[0;31mNameError\u001b[0m                                 Traceback (most recent call last)",
            "\u001b[0;32m<ipython-input-1-c19f432ee023>\u001b[0m in \u001b[0;36m<module>\u001b[0;34m()\u001b[0m\n\u001b[1;32m      2\u001b[0m \u001b[0mb\u001b[0m\u001b[0;34m=\u001b[0m\u001b[0;36m20\u001b[0m\u001b[0;34m\u001b[0m\u001b[0;34m\u001b[0m\u001b[0m\n\u001b[1;32m      3\u001b[0m \u001b[0;32mif\u001b[0m \u001b[0ma\u001b[0m\u001b[0;34m<\u001b[0m\u001b[0mb\u001b[0m\u001b[0;34m:\u001b[0m\u001b[0;34m\u001b[0m\u001b[0;34m\u001b[0m\u001b[0m\n\u001b[0;32m----> 4\u001b[0;31m     \u001b[0mprint\u001b[0m\u001b[0;34m(\u001b[0m\u001b[0mn\u001b[0m\u001b[0;34m)\u001b[0m\u001b[0;34m\u001b[0m\u001b[0;34m\u001b[0m\u001b[0m\n\u001b[0m",
            "\u001b[0;31mNameError\u001b[0m: name 'n' is not defined"
          ]
        }
      ],
      "source": [
        "a=10 \n",
        "b=20\n",
        "if a<b: #如A<B 就做下\n",
        "    print(n) #沒有n變數 錯誤"
      ]
    },
    {
      "cell_type": "code",
      "source": [
        "a=10\n",
        "b=20\n",
        "try:  #嘗試運算\n",
        "    if a<b: #如A<B 就做下\n",
        "        print(n)#沒有n變數 錯誤\n",
        "except: #有錯誤 執行\n",
        "    print(\"錯誤產生\") #印錯誤產生"
      ],
      "metadata": {
        "colab": {
          "base_uri": "https://localhost:8080/"
        },
        "id": "nS-lKT93Be6l",
        "outputId": "7d4b1dac-54eb-4628-a137-ebd8052b1458"
      },
      "execution_count": null,
      "outputs": [
        {
          "output_type": "stream",
          "name": "stdout",
          "text": [
            "錯誤產生\n"
          ]
        }
      ]
    },
    {
      "cell_type": "markdown",
      "source": [
        "#指定錯誤類別處理"
      ],
      "metadata": {
        "id": "YfV02tvvBjRt"
      }
    },
    {
      "cell_type": "code",
      "source": [
        "a=10\n",
        "b=20\n",
        "try: #嘗試運算\n",
        "    if a<b: #如A<B 就做下\n",
        "        print(n)#沒有n變數 錯誤\n",
        "except NameError as e:#有NameError錯誤 執行\n",
        "    print(\"錯誤產生, 錯誤原因：\",e) #印錯誤產生, 錯誤原因： + 系統抓的錯誤資訊\n",
        "except ZeroDivisionError:#有ZeroDivisionError錯誤 執行\n",
        "    print(\"除以0錯誤\")#印除以0錯誤"
      ],
      "metadata": {
        "colab": {
          "base_uri": "https://localhost:8080/"
        },
        "id": "4xDDCKlsBh6l",
        "outputId": "58693b24-bbd4-49ed-fba8-83143b102d95"
      },
      "execution_count": null,
      "outputs": [
        {
          "output_type": "stream",
          "name": "stdout",
          "text": [
            "錯誤產生, 錯誤原因： name 'n' is not defined\n"
          ]
        }
      ]
    },
    {
      "cell_type": "markdown",
      "source": [
        "#else"
      ],
      "metadata": {
        "id": "pagVIvx7BnRd"
      }
    },
    {
      "cell_type": "code",
      "source": [
        "\n",
        "a=10\n",
        "b=20\n",
        "try: #嘗試運算\n",
        "    if a>b: #改變比較條件，讓錯誤不發生\n",
        "        print(n)#沒有n變數 錯誤\n",
        "except: #有錯誤 執行\n",
        "    print(\"錯誤發生\") #印錯誤產生\n",
        "else:   #沒錯誤 執行\n",
        "    print(\"沒有錯誤發生時會執行的部分\")#沒有錯誤發生時會執行的部分"
      ],
      "metadata": {
        "colab": {
          "base_uri": "https://localhost:8080/"
        },
        "id": "hgU6gzQoBpin",
        "outputId": "c38213cd-5b36-49ae-91c3-4a41c0f22693"
      },
      "execution_count": null,
      "outputs": [
        {
          "output_type": "stream",
          "name": "stdout",
          "text": [
            "沒有錯誤發生時會執行的部分\n"
          ]
        }
      ]
    },
    {
      "cell_type": "code",
      "source": [
        "a=10\n",
        "b=20\n",
        "try:#嘗試運算\n",
        "    if a>b: #改變比較條件，讓錯誤不發生\n",
        "        print(n)#沒有n變數 錯誤\n",
        "except:#有錯誤 執行 #印錯誤產生\n",
        "    print(\"錯誤發生\")\n",
        "else:#沒錯誤 執行\n",
        "    print(\"沒有錯誤發生時會執行的部分\")#沒有錯誤發生時會執行的部分\n",
        "finally:#有錯誤 沒錯誤 都執行\n",
        "    print(\"不管有沒有錯誤一定會執行的部分\")#不管有沒有錯誤一定會執行的部分"
      ],
      "metadata": {
        "colab": {
          "base_uri": "https://localhost:8080/"
        },
        "id": "cMwqI3AhBtlN",
        "outputId": "82790bcb-da4f-4c05-bd86-d19c0e1f4b12"
      },
      "execution_count": null,
      "outputs": [
        {
          "output_type": "stream",
          "name": "stdout",
          "text": [
            "沒有錯誤發生時會執行的部分\n",
            "不管有沒有錯誤一定會執行的部分\n"
          ]
        }
      ]
    }
  ]
}